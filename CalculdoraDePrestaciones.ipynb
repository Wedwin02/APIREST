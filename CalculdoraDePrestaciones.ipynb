{
  "nbformat": 4,
  "nbformat_minor": 0,
  "metadata": {
    "colab": {
      "provenance": [],
      "authorship_tag": "ABX9TyMi2YxRBiPjrLqGi7BamA6j",
      "include_colab_link": true
    },
    "kernelspec": {
      "name": "python3",
      "display_name": "Python 3"
    },
    "language_info": {
      "name": "python"
    }
  },
  "cells": [
    {
      "cell_type": "markdown",
      "metadata": {
        "id": "view-in-github",
        "colab_type": "text"
      },
      "source": [
        "<a href=\"https://colab.research.google.com/github/Wedwin02/APIREST/blob/main/CalculdoraDePrestaciones.ipynb\" target=\"_parent\"><img src=\"https://colab.research.google.com/assets/colab-badge.svg\" alt=\"Open In Colab\"/></a>"
      ]
    },
    {
      "cell_type": "markdown",
      "source": [
        "# Calculadora de Prestaciones\n",
        "https://jmbauditores.com/calcular-prestaciones/\n",
        "\n",
        "\n",
        "AFP salario * 7.25%\n",
        "ISSS salario * 30% si el salario < 10000 de lo contrario siempre sera $30\n",
        "RENTA https://www.mh.gob.sv/wp-content/uploads/2020/11/700-DGII-CM-0000-41.pdf\n"
      ],
      "metadata": {
        "id": "7YOdrHXrAS-w"
      }
    },
    {
      "cell_type": "code",
      "execution_count": 27,
      "metadata": {
        "id": "UNbZDCsDARAq"
      },
      "outputs": [],
      "source": [
        "# VARIABLES\n",
        "porcentaje_AFP_Empleado = 7.25\n",
        "porcentaje_AFP_Patronal = 7.75\n",
        "porcentaje_ISS = 3\n",
        "techo_ISS = 1000\n",
        "\n",
        "DatosISR = {\n",
        "    1:{'MONTO_INICIAL': 0.01,     'MONTO_FINAL':472,    'PORCENTAJE':0,    'TECHO':0,      'CUOTA_FIJA':0     },\n",
        "    2:{'MONTO_INICIAL': 472.01,   'MONTO_FINAL':895.24, 'PORCENTAJE':10,   'TECHO':472,    'CUOTA_FIJA':17.67 },\n",
        "    3:{'MONTO_INICIAL': 895.25,   'MONTO_FINAL':2038.1, 'PORCENTAJE':20,   'TECHO':895.24, 'CUOTA_FIJA':60.00 },\n",
        "    4:{'MONTO_INICIAL': 2038.11,  'MONTO_FINAL':1000000,'PORCENTAJE':30,   'TECHO':2038.1, 'CUOTA_FIJA':288.57}\n",
        "}"
      ]
    },
    {
      "cell_type": "code",
      "source": [
        "#Funciones\n",
        "# si en Tipo_de_Calculo =  P es patronal y si es E empleado\n",
        "def calcular_AFP(Salario,Tipo_de_Calculo):\n",
        "  if Tipo_de_Calculo == 'E':\n",
        "     return Salario * (porcentaje_AFP_Empleado/100)\n",
        "  elif Tipo_de_Calculo == 'P':\n",
        "    return Salario * (porcentaje_AFP_Patronal/100)\n",
        "  else:\n",
        "    'Errr en el dato'\n",
        "\n",
        "def calcular_ISS(Salario):\n",
        "  if Salario <= techo_ISS:\n",
        "    return round(Salario * (porcentaje_ISS/100),2)\n",
        "  else:\n",
        "    return round(techo_ISS * (porcentaje_ISS/100),2)\n",
        "\n",
        "def CalularISR(subtotal):\n",
        "  for x in DatosISR:\n",
        "    ax = DatosISR[x]\n",
        "    if subtotal <= ax['MONTO_FINAL']:\n",
        "      return round(((subtotal - ax['TECHO'])*(ax['PORCENTAJE']/100)) + ax['CUOTA_FIJA'],2)\n",
        "      break"
      ],
      "metadata": {
        "id": "rZdH7aKnB1eJ"
      },
      "execution_count": 28,
      "outputs": []
    },
    {
      "cell_type": "code",
      "source": [
        "#Sentencias\n",
        "print('Calculadora de prestaciones')\n",
        "salario = round(float(input('Ingrese su salario: $')),2)\n",
        "afp_Patrono = round(calcular_AFP(salario,'P'),2)\n",
        "afp_Empleado = round(calcular_AFP(salario,'E'),2)\n",
        "isss = round(calcular_ISS(salario),2)\n",
        "\n",
        "subTotal = salario - afp_Empleado - isss\n",
        "ISR = CalularISR(subTotal)\n",
        "total_pagar = subTotal -ISR\n",
        "\n",
        "print('Valor del ISSS para el empleado: $',afp_Empleado)\n",
        "print('Valor del ISSS para el empleado: $',isss)\n",
        "print('Calculo ISR: $',ISR)\n",
        "print('Total a pagar: $',total_pagar)"
      ],
      "metadata": {
        "colab": {
          "base_uri": "https://localhost:8080/"
        },
        "id": "YKU8u7roB40D",
        "outputId": "ea095e13-ffd2-483b-866a-61110222a7a5"
      },
      "execution_count": 30,
      "outputs": [
        {
          "output_type": "stream",
          "name": "stdout",
          "text": [
            "Calculadora de prestaciones\n",
            "Ingrese su salario: $1000.67\n",
            "Valor del ISSS para el empleado: $ 72.55\n",
            "Valor del ISSS para el empleado: $ 30.0\n",
            "Calculo ISR: $ 60.57\n",
            "Total a pagar: $ 837.55\n"
          ]
        }
      ]
    }
  ]
}